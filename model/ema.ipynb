{
 "cells": [
  {
   "cell_type": "code",
   "execution_count": null,
   "metadata": {
    "collapsed": true
   },
   "outputs": [],
   "source": [
    "class EMA():\n",
    "    def __init__(self, mu):\n",
    "        self.mu = mu\n",
    "        self.shadow = {}\n",
    "\n",
    "    def register(self, name, val):\n",
    "        self.shadow[name] = val.clone()\n",
    "\n",
    "    def get(self, name):\n",
    "        return self.shadow[name]\n",
    "\n",
    "    def update(self, name, x):\n",
    "        #指数移动平均值,EMAtoday=α * Pricetoday + ( 1 - α ) * EMAyesterday,也用EMA来平滑和美观曲线\n",
    "        assert name in self.shadow\n",
    "        new_average = (1.0 - self.mu) * x + self.mu * self.shadow[name]\n",
    "        self.shadow[name] = new_average.clone()"
   ]
  }
 ],
 "metadata": {
  "kernelspec": {
   "display_name": "Python 2",
   "language": "python",
   "name": "python2"
  },
  "language_info": {
   "codemirror_mode": {
    "name": "ipython",
    "version": 2
   },
   "file_extension": ".py",
   "mimetype": "text/x-python",
   "name": "python",
   "nbconvert_exporter": "python",
   "pygments_lexer": "ipython2",
   "version": "2.7.6"
  }
 },
 "nbformat": 4,
 "nbformat_minor": 0
}
